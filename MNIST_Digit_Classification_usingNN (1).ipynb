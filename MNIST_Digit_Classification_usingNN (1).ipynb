{
  "nbformat": 4,
  "nbformat_minor": 0,
  "metadata": {
    "colab": {
      "provenance": []
    },
    "kernelspec": {
      "name": "python3",
      "display_name": "Python 3"
    },
    "language_info": {
      "name": "python"
    }
  },
  "cells": [
    {
      "cell_type": "code",
      "execution_count": null,
      "metadata": {
        "id": "r7YoxLFsjZXD"
      },
      "outputs": [],
      "source": [
        "import numpy as np\n",
        "import matplotlib.pyplot as plt\n",
        "import seaborn as sns\n",
        "import cv2 # computer vision ( imp for image recognition tasks)\n",
        "from google.colab.patches import cv2_imshow\n",
        "from PIL import Image\n",
        "import tensorflow as tf\n",
        "tf.random.set_seed(3)\n",
        "from tensorflow import keras\n",
        "from keras.datasets import mnist # required digit classification dataset\n",
        "from tensorflow.math import confusion_matrix"
      ]
    },
    {
      "cell_type": "markdown",
      "source": [
        "Loading the MNIST data from keras.datasets"
      ],
      "metadata": {
        "id": "YKhC2gm-l9wL"
      }
    },
    {
      "cell_type": "code",
      "source": [
        "(X_train, Y_train), (X_test, Y_test) = mnist.load_data()"
      ],
      "metadata": {
        "id": "eMJjiEpRlngJ"
      },
      "execution_count": null,
      "outputs": []
    },
    {
      "cell_type": "code",
      "source": [
        "type(X_train)"
      ],
      "metadata": {
        "id": "xV71zRmClnPB"
      },
      "execution_count": null,
      "outputs": []
    },
    {
      "cell_type": "code",
      "source": [
        "# shape of the np arrays\n",
        "print(X_train.shape , Y_train.shape , X_test.shape , Y_test.shape)"
      ],
      "metadata": {
        "id": "4d5MxxdLmr1h"
      },
      "execution_count": null,
      "outputs": []
    },
    {
      "cell_type": "markdown",
      "source": [
        "Training data = 60,000 images and Test data = 10,000\n"
      ],
      "metadata": {
        "id": "yO8GecGBnUfc"
      }
    },
    {
      "cell_type": "markdown",
      "source": [
        "Image dimension -->28 x 28"
      ],
      "metadata": {
        "id": "f7HGm6FrnjPV"
      }
    },
    {
      "cell_type": "markdown",
      "source": [
        "Grayscale Image --> 1 channel"
      ],
      "metadata": {
        "id": "WRSMfg4Cnkxr"
      }
    },
    {
      "cell_type": "code",
      "source": [
        "# printing the 10th image\n",
        "# all the values range from [0,255]\n",
        "\n",
        "print(X_train[9])"
      ],
      "metadata": {
        "id": "P4A56aYxm6KR"
      },
      "execution_count": null,
      "outputs": []
    },
    {
      "cell_type": "code",
      "source": [
        "print(X_train[9].shape)"
      ],
      "metadata": {
        "id": "zF2dV8U7ntwq"
      },
      "execution_count": null,
      "outputs": []
    },
    {
      "cell_type": "code",
      "source": [
        "# displaying the image\n",
        "\n",
        "plt.imshow(X_train[5])\n",
        "plt.show()\n",
        "\n",
        "# print the corresponding label\n",
        "print(Y_train[5])"
      ],
      "metadata": {
        "id": "49Un575gn-iL"
      },
      "execution_count": null,
      "outputs": []
    },
    {
      "cell_type": "markdown",
      "source": [
        "Image Labels"
      ],
      "metadata": {
        "id": "mLpTczaYoUiu"
      }
    },
    {
      "cell_type": "code",
      "source": [
        "print(Y_train.shape , Y_test.shape)"
      ],
      "metadata": {
        "id": "EgJxVwZYoLUM"
      },
      "execution_count": null,
      "outputs": []
    },
    {
      "cell_type": "code",
      "source": [
        "# unique values in Y_train\n",
        "print(np.unique(Y_train))\n",
        "\n",
        "# unique values in Y_test\n",
        "print(np.unique(Y_test))"
      ],
      "metadata": {
        "id": "KRHwZU_NoYHV"
      },
      "execution_count": null,
      "outputs": []
    },
    {
      "cell_type": "markdown",
      "source": [
        "We can use the labels as such or we can apply One Hot Encoding"
      ],
      "metadata": {
        "id": "-kFK-0A2opH8"
      }
    },
    {
      "cell_type": "markdown",
      "source": [
        "All the images have the same dimension in this dataset. If not, we have to resize all images to common dimension"
      ],
      "metadata": {
        "id": "VzxlBgVFo85L"
      }
    },
    {
      "cell_type": "code",
      "source": [
        "# scaling the values\n",
        "\n",
        "X_train = X_train/255\n",
        "X_test = X_test/255"
      ],
      "metadata": {
        "id": "hp45PKvgoe72"
      },
      "execution_count": null,
      "outputs": []
    },
    {
      "cell_type": "code",
      "source": [
        "# print 10th image\n",
        "print(X_train[9])"
      ],
      "metadata": {
        "id": "8vieOzWIpKBx"
      },
      "execution_count": null,
      "outputs": []
    },
    {
      "cell_type": "markdown",
      "source": [
        "Building the Neural Network"
      ],
      "metadata": {
        "id": "ELBX4Ey4puPu"
      }
    },
    {
      "cell_type": "code",
      "source": [
        "# setting up the layers of the Neural Network\n",
        "\n",
        "model = keras.Sequential([\n",
        "    keras.layers.Flatten(input_shape=(28,28)),\n",
        "    keras.layers.Dense(50, activation='relu'),\n",
        "    keras.layers.Dense(50, activation='relu'),\n",
        "    keras.layers.Dense(10, activation='sigmoid')\n",
        "])"
      ],
      "metadata": {
        "id": "jEiekFispl0D"
      },
      "execution_count": null,
      "outputs": []
    },
    {
      "cell_type": "code",
      "source": [
        "# compiling the Neural Network\n",
        "\n",
        "model.compile(optimizer = 'adam',\n",
        "              loss = 'sparse_categorical_crossentropy',\n",
        "              metrics = ['accuracy'])"
      ],
      "metadata": {
        "id": "oyGKyWvyqA63"
      },
      "execution_count": null,
      "outputs": []
    },
    {
      "cell_type": "code",
      "source": [
        "# training the neural network\n",
        "\n",
        "model.fit(X_train,Y_train,epochs = 10)"
      ],
      "metadata": {
        "id": "ZogI83hiq018"
      },
      "execution_count": null,
      "outputs": []
    },
    {
      "cell_type": "markdown",
      "source": [
        "Training data accuracy = 99.52%"
      ],
      "metadata": {
        "id": "oY4JDm5Krx9L"
      }
    },
    {
      "cell_type": "code",
      "source": [
        "loss, accuracy = model.evaluate(X_test,Y_test)\n",
        "print(accuracy)"
      ],
      "metadata": {
        "id": "yun3G2Jrra5r"
      },
      "execution_count": null,
      "outputs": []
    },
    {
      "cell_type": "markdown",
      "source": [
        "Test Data accuracy = 97.48%"
      ],
      "metadata": {
        "id": "xKfjagB3sEUs"
      }
    },
    {
      "cell_type": "code",
      "source": [
        "print(X_test.shape)"
      ],
      "metadata": {
        "id": "7XI_R76Xr51E"
      },
      "execution_count": null,
      "outputs": []
    },
    {
      "cell_type": "code",
      "source": [
        "# first data point in X_test\n",
        "plt.imshow(X_test[0])\n",
        "plt.show()"
      ],
      "metadata": {
        "id": "atZEBGk1sK0u"
      },
      "execution_count": null,
      "outputs": []
    },
    {
      "cell_type": "code",
      "source": [
        "print(Y_test[0])"
      ],
      "metadata": {
        "id": "3KVUV8IesOUp"
      },
      "execution_count": null,
      "outputs": []
    },
    {
      "cell_type": "code",
      "source": [
        "Y_predication = model.predict(X_test)\n",
        "\n",
        "print(Y_predication.shape)"
      ],
      "metadata": {
        "id": "8hasZWQ-sWyz"
      },
      "execution_count": null,
      "outputs": []
    },
    {
      "cell_type": "code",
      "source": [
        "print(Y_predication[0])"
      ],
      "metadata": {
        "id": "29_buJrosb6j"
      },
      "execution_count": null,
      "outputs": []
    },
    {
      "cell_type": "markdown",
      "source": [
        "model.predict( ) gives the prediction probability of each class for that data point"
      ],
      "metadata": {
        "id": "la_9_GCcs8Lx"
      }
    },
    {
      "cell_type": "code",
      "source": [
        "# converting the prediction probabilities to class label\n",
        "# find the max value in those 10\n",
        "\n",
        "label_for_first_image = np.argmax(Y_predication[0])\n",
        "# np.argmax tells which index is max out of 10\n",
        "print(label_for_first_image)"
      ],
      "metadata": {
        "id": "hewAgqpksjpm"
      },
      "execution_count": null,
      "outputs": []
    },
    {
      "cell_type": "code",
      "source": [
        "# converting the prediction probability to class label for all test data points\n",
        "Y_predication_labels = [np.argmax(i) for i in Y_predication]\n",
        "print(Y_predication_labels)"
      ],
      "metadata": {
        "id": "Bgfx-FwHtJvw"
      },
      "execution_count": null,
      "outputs": []
    },
    {
      "cell_type": "markdown",
      "source": [
        "Y_test --> True labels"
      ],
      "metadata": {
        "id": "xMb3GV2Jt-ZK"
      }
    },
    {
      "cell_type": "markdown",
      "source": [
        "Y_test_labels --> Predicted labels"
      ],
      "metadata": {
        "id": "AvxuleQauCTf"
      }
    },
    {
      "cell_type": "markdown",
      "source": [
        "Confusion Matrix"
      ],
      "metadata": {
        "id": "kJ52faHjuI2q"
      }
    },
    {
      "cell_type": "code",
      "source": [
        "conf_mat = confusion_matrix(Y_test, Y_predication_labels)\n",
        "print(conf_mat)"
      ],
      "metadata": {
        "id": "o3N9bHQut4mB"
      },
      "execution_count": null,
      "outputs": []
    },
    {
      "cell_type": "code",
      "source": [
        "plt.figure(figsize = (15,7))\n",
        "sns.heatmap(conf_mat, annot=True, fmt='d', cmap='Blues')\n",
        "plt.ylabel('True Labels')\n",
        "plt.xlabel('Predicted Labels')"
      ],
      "metadata": {
        "id": "FuItGeK0uPGg"
      },
      "execution_count": null,
      "outputs": []
    },
    {
      "cell_type": "markdown",
      "source": [
        "**Predictive System**"
      ],
      "metadata": {
        "id": "fFKRETIm0T_i"
      }
    },
    {
      "cell_type": "code",
      "source": [
        "input_image_path = input(\"Enter the path to the image: \")\n",
        "\n",
        "input_image = cv2.imread(input_image_path)\n",
        "\n",
        "cv2_imshow(input_image)\n",
        "\n",
        "grayscale = cv2.cvtColor(input_image, cv2.COLOR_BGR2GRAY)\n",
        "\n",
        "input_image_resize = cv2.resize(grayscale,(28,28))\n",
        "\n",
        "input_image_resize = input_image_resize/255\n",
        "\n",
        "input_reshaped = np.reshape(input_image_resize, [1,28,28])\n",
        "\n",
        "input_prediction = model.predict(input_reshaped)\n",
        "\n",
        "input_prediction_label = np.argmax(input_prediction)\n",
        "\n",
        "print(\"Predicted Label is: \", input_prediction_label)"
      ],
      "metadata": {
        "id": "M6LNEnRoznxp"
      },
      "execution_count": null,
      "outputs": []
    }
  ]
}